{
 "cells": [
  {
   "cell_type": "markdown",
   "metadata": {},
   "source": [
    "Импортируем созданную нами ранее мини-библиотеку в ноутбук. Вставьте код для импорта в ячейку вашего файла:\n",
    "\n",
    "import game_v2"
   ]
  },
  {
   "cell_type": "code",
   "execution_count": 5,
   "metadata": {},
   "outputs": [
    {
     "name": "stdout",
     "output_type": "stream",
     "text": [
      "Количество попыток: 43\n"
     ]
    }
   ],
   "source": [
    "import game_v2"
   ]
  },
  {
   "cell_type": "markdown",
   "metadata": {},
   "source": [
    "После запуска тут же увидим результат вывода. Это происходит из-за того, что в нашем файле game_v2.py прописан вызов функции score_game(). Это не совсем корректно — библиотека не должна запускать свои функции, пока мы сами их не вызовем в главном файле.\n",
    "\n",
    "Это можно исправить. Чтобы отделить вызовы функций от импорта, необходимо в файле game_v2.py перенести вызовы функций в следующую конструкцию:\n",
    "\n",
    "if __name__ == '__main__':\n",
    "    score_game(random_predict)"
   ]
  },
  {
   "cell_type": "markdown",
   "metadata": {},
   "source": [
    "Теперь мы будем выполнять импортируемый код следующим образом:\n",
    "\n",
    "Примечание. Для того чтобы обратиться к функции из модуля game_v2, мы должны сначала обратиться к модулю game_v2, который мы импортировали выше, а затем через точку обратиться к функции, которая находится в этом модуле."
   ]
  },
  {
   "cell_type": "code",
   "execution_count": 6,
   "metadata": {},
   "outputs": [
    {
     "name": "stdout",
     "output_type": "stream",
     "text": [
      "Ваш алгоритм угадывает число в среднем за: 101 попыток\n"
     ]
    },
    {
     "data": {
      "text/plain": [
       "101"
      ]
     },
     "execution_count": 6,
     "metadata": {},
     "output_type": "execute_result"
    }
   ],
   "source": [
    "game_v2.score_game(game_v2.random_predict)"
   ]
  },
  {
   "cell_type": "markdown",
   "metadata": {},
   "source": [
    "На самом деле, выполнять код таким образом не совсем корректно — лучше указать, из какой библиотеки (в данном случае — соседний файл, game_v2.py) мы производим импорт. Корректный импорт будет выглядеть так:"
   ]
  },
  {
   "cell_type": "code",
   "execution_count": 1,
   "metadata": {},
   "outputs": [
    {
     "name": "stdout",
     "output_type": "stream",
     "text": [
      "Количество попыток: 20\n",
      "Ваш алгоритм угадывает число в среднем за: 101 попыток\n"
     ]
    },
    {
     "data": {
      "text/plain": [
       "101"
      ]
     },
     "execution_count": 1,
     "metadata": {},
     "output_type": "execute_result"
    }
   ],
   "source": [
    "from game_v2 import score_game\n",
    "from game_v2 import random_predict\n",
    "score_game(random_predict) #вызов функции"
   ]
  },
  {
   "cell_type": "code",
   "execution_count": null,
   "metadata": {},
   "outputs": [],
   "source": [
    "from game_v2 import score_game\n",
    "from game_v2 import random_predict"
   ]
  },
  {
   "cell_type": "code",
   "execution_count": 2,
   "metadata": {},
   "outputs": [
    {
     "name": "stdout",
     "output_type": "stream",
     "text": [
      "Ваш алгоритм угадывает число в среднем за: 101 попыток\n"
     ]
    },
    {
     "data": {
      "text/plain": [
       "101"
      ]
     },
     "execution_count": 2,
     "metadata": {},
     "output_type": "execute_result"
    }
   ],
   "source": [
    "score_game(random_predict) #вызов функции"
   ]
  },
  {
   "cell_type": "markdown",
   "metadata": {},
   "source": [
    "Примечание. С помощью ключевого слова from мы указываем, откуда будет производиться импорт, а далее прописываем функцию, которую будем импортировать. После этого мы можем уже напрямую обращаться к функции по имени.\n",
    "\n",
    "Чтобы не прописывать импорт из одного и того же модуля несколько раз, можно перечислить нужные нам из этого модуля функции через запятую:\n",
    "\n",
    "from game_v2 import score_game, random_predict"
   ]
  },
  {
   "cell_type": "markdown",
   "metadata": {},
   "source": [
    "Ещё одна особенность Jupyter Notebook в VS Code — возможность просмотра переменных. При изменении переменных мы также сможем увидеть результат этих изменений.\n",
    "Например, объявим в одной из ячеек несколько переменных:\n",
    "n = 10\n",
    "z = n\n",
    "n = 5"
   ]
  },
  {
   "cell_type": "markdown",
   "metadata": {},
   "source": [
    "С помощью меню Variables мы можем просмотреть значения всех глобальных переменных, которые объявлены в ноутбуке:"
   ]
  }
 ],
 "metadata": {
  "kernelspec": {
   "display_name": "Python 3",
   "language": "python",
   "name": "python3"
  },
  "language_info": {
   "codemirror_mode": {
    "name": "ipython",
    "version": 3
   },
   "file_extension": ".py",
   "mimetype": "text/x-python",
   "name": "python",
   "nbconvert_exporter": "python",
   "pygments_lexer": "ipython3",
   "version": "3.9.10"
  }
 },
 "nbformat": 4,
 "nbformat_minor": 2
}
